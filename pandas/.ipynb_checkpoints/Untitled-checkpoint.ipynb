{
 "cells": [
  {
   "cell_type": "code",
   "execution_count": 15,
   "id": "76735b8e",
   "metadata": {},
   "outputs": [
    {
     "name": "stdout",
     "output_type": "stream",
     "text": [
      "          name  population     area\n",
      "0  Afghanistan    25500100   652230\n",
      "2      Algeria    37100000  2381741\n"
     ]
    }
   ],
   "source": [
    "# Problem One\n",
    "\n",
    "import  pandas as pd\n",
    "\n",
    "data = [['Afghanistan', 'Asia', 652230, 25500100, 20343000000],\n",
    "        ['Albania', 'Europe', 28748, 2831741, 12960000000],\n",
    "        ['Algeria', 'Africa', 2381741, 37100000, 188681000000],\n",
    "        ['Andorra', 'Europe', 468, 78115, 3712000000], \n",
    "        ['Angola', 'Africa', 1246700, 20609294, 100990000000]]\n",
    "\n",
    "World = pd.DataFrame(data, columns=['name', 'continent', 'area', 'population', 'gdp']).astype(\n",
    "    {'name':'object', 'continent':'object', 'area':'Int64', 'population':'Int64', 'gdp':'Int64'})\n",
    "\n",
    "def big_countries(world: pd.DataFrame) -> pd.DataFrame:\n",
    "    return World[(World['population']>25000000) | (World['area']>3000000) ][['name','population','area']]\n",
    "\n",
    "print(big_countries(World))\n"
   ]
  },
  {
   "cell_type": "code",
   "execution_count": 28,
   "id": "9581576c",
   "metadata": {},
   "outputs": [
    {
     "name": "stdout",
     "output_type": "stream",
     "text": [
      "  Customer\n",
      "1    Henry\n",
      "3      Max\n"
     ]
    }
   ],
   "source": [
    "# Problem 4\n",
    "import pandas as pd\n",
    "data = [[1, 'Joe'], [2, 'Henry'], [3, 'Sam'], [4, 'Max']]\n",
    "\n",
    "Customers = pd.DataFrame(data, columns=['id', 'name']).astype({'id':'Int64', 'name':'object'})\n",
    "\n",
    "data = [[1, 3], [2, 1]]\n",
    "Orders = pd.DataFrame(data, columns=['id', 'customerId']).astype({'id':'Int64', 'customerId':'Int64'})\n",
    "result=Customers[~Customers['id'].isin(Orders[\"customerId\"])][['name']]\n",
    "# result=result['name']\n",
    "result.columns=['Customer']\n",
    "print(result)"
   ]
  },
  {
   "cell_type": "code",
   "execution_count": null,
   "id": "5d9c7a69",
   "metadata": {},
   "outputs": [],
   "source": []
  }
 ],
 "metadata": {
  "kernelspec": {
   "display_name": "Python 3 (ipykernel)",
   "language": "python",
   "name": "python3"
  },
  "language_info": {
   "codemirror_mode": {
    "name": "ipython",
    "version": 3
   },
   "file_extension": ".py",
   "mimetype": "text/x-python",
   "name": "python",
   "nbconvert_exporter": "python",
   "pygments_lexer": "ipython3",
   "version": "3.10.10"
  }
 },
 "nbformat": 4,
 "nbformat_minor": 5
}
