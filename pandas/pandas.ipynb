{
 "cells": [
  {
   "cell_type": "code",
   "execution_count": 15,
   "id": "76735b8e",
   "metadata": {},
   "outputs": [
    {
     "name": "stdout",
     "output_type": "stream",
     "text": [
      "          name  population     area\n",
      "0  Afghanistan    25500100   652230\n",
      "2      Algeria    37100000  2381741\n"
     ]
    }
   ],
   "source": [
    "# Problem One\n",
    "\n",
    "import  pandas as pd\n",
    "\n",
    "data = [['Afghanistan', 'Asia', 652230, 25500100, 20343000000],\n",
    "        ['Albania', 'Europe', 28748, 2831741, 12960000000],\n",
    "        ['Algeria', 'Africa', 2381741, 37100000, 188681000000],\n",
    "        ['Andorra', 'Europe', 468, 78115, 3712000000], \n",
    "        ['Angola', 'Africa', 1246700, 20609294, 100990000000]]\n",
    "\n",
    "World = pd.DataFrame(data, columns=['name', 'continent', 'area', 'population', 'gdp']).astype(\n",
    "    {'name':'object', 'continent':'object', 'area':'Int64', 'population':'Int64', 'gdp':'Int64'})\n",
    "\n",
    "def big_countries(world: pd.DataFrame) -> pd.DataFrame:\n",
    "    return World[(World['population']>25000000) | (World['area']>3000000) ][['name','population','area']]\n",
    "\n",
    "print(big_countries(World))\n"
   ]
  },
  {
   "cell_type": "code",
   "execution_count": 2,
   "id": "9581576c",
   "metadata": {},
   "outputs": [
    {
     "name": "stdout",
     "output_type": "stream",
     "text": [
      "  Customer\n",
      "1    Henry\n",
      "3      Max\n"
     ]
    }
   ],
   "source": [
    "# Problem 4\n",
    "import pandas as pd\n",
    "data = [[1, 'Joe'], [2, 'Henry'], [3, 'Sam'], [4, 'Max']]\n",
    "\n",
    "Customers = pd.DataFrame(data, columns=['id', 'name']).astype({'id':'Int64', 'name':'object'})\n",
    "\n",
    "data = [[1, 3], [2, 1]]\n",
    "Orders = pd.DataFrame(data, columns=['id', 'customerId']).astype({'id':'Int64', 'customerId':'Int64'})\n",
    "result=Customers[~Customers['id'].isin(Orders[\"customerId\"])][['name']]\n",
    "# result=result['name']\n",
    "result.columns=['Customer']\n",
    "print(result)"
   ]
  },
  {
   "cell_type": "code",
   "execution_count": 11,
   "id": "5d9c7a69",
   "metadata": {},
   "outputs": [
    {
     "name": "stdout",
     "output_type": "stream",
     "text": [
      "   tweet_id\n",
      "1         2\n"
     ]
    }
   ],
   "source": [
    "#invalid tweet\n",
    "import pandas as pd\n",
    "data = [[1, 'Vote for Biden'],\n",
    "        [2, 'Let us make America great again!']]\n",
    "Tweets = pd.DataFrame(data, columns=['tweet_id', 'content']).astype({'tweet_id':'Int64', 'content':'object'})\n",
    "\n",
    "print(Tweets[Tweets['content'].str.len()>25][['tweet_id']])\n"
   ]
  },
  {
   "cell_type": "code",
   "execution_count": 91,
   "id": "b3053197",
   "metadata": {},
   "outputs": [
    {
     "name": "stdout",
     "output_type": "stream",
     "text": [
      "[0, 0, 7400, 0, 7700]\n",
      "   employee_id     name  salary  bonos\n",
      "0            2     Meir    3000      0\n",
      "1            3  Michael    3800      0\n",
      "2            7  Addilyn    7400   7400\n",
      "3            8     Juan    6100      0\n",
      "4            9   Kannon    7700   7700\n"
     ]
    }
   ],
   "source": [
    "#specail bonos\n",
    "import pandas as pd\n",
    "data = [[2, 'Meir', 3000], \n",
    "        [3, 'Michael', 3800], \n",
    "        [7, 'Addilyn', 7400],\n",
    "        [8, 'Juan', 6100],\n",
    "        [9, 'Kannon', 7700]]\n",
    "Employees = pd.DataFrame(data, columns=['employee_id', 'name', 'salary']).astype({'employee_id':'int64', 'name':'object', 'salary':'int64'})\n",
    "\n",
    "\n",
    "\n",
    "# Employees['bonos']= (Employees['salary'] if ~Employees['name'].str.startswith(\"M\")  else 0  )\n",
    "ls=[]\n",
    "for i in range(len(Employees)):\n",
    "        if(~Employees.at[i,'name'].startswith(\"M\") & Employees.at[i,'employee_id']%2!=0):\n",
    "               ls.insert(i,Employees.at[i,'salary'])\n",
    "        else:\n",
    "            ls.insert(i,0)\n",
    "           \n",
    "Employees['bonos']=ls\n",
    "print(Employees)\n",
    "# print(Employees.loc(~Employees['name'].str.startswith(\"M\"),['name']))\n"
   ]
  },
  {
   "cell_type": "code",
   "execution_count": 107,
   "id": "c43eace8",
   "metadata": {
    "scrolled": true
   },
   "outputs": [
    {
     "name": "stdout",
     "output_type": "stream",
     "text": [
      "  user_id   name\n",
      "0       1  Alice\n",
      "1       2    Bob\n"
     ]
    }
   ],
   "source": [
    "#fix names in a table\n",
    "data = [[1, 'aLice'], [2, 'bOB']]\n",
    "Users = pd.DataFrame(data, columns=['user_id', 'name']).astype({'user_id':'Int64', 'name':'object'})\n",
    "def rename(x):\n",
    "    name=x['name']\n",
    "    name=name[0:1].upper()+name[1:len(name)].lower()\n",
    "    return [x.user_id,name]\n",
    "\n",
    "print(Users.apply(rename,1,False,'broadcast'))"
   ]
  },
  {
   "cell_type": "code",
   "execution_count": 18,
   "id": "717cba4e",
   "metadata": {},
   "outputs": [
    {
     "name": "stdout",
     "output_type": "stream",
     "text": [
      "   user_id       name                  mail\n",
      "0        1    Winston  winston@leetcode.com\n",
      "2        3  Annabelle   bella-@leetcode.com\n"
     ]
    }
   ],
   "source": [
    "#invalid Email\n",
    "import pandas as pd\n",
    "    pattern=r\"^[a-zA-Z][_\\-\\.a-zA-Z0-9]*@leetcode\\.com$\"\n",
    "data = [[1, 'Winston', 'winston@leetcode.com'],[2, 'Jonathan', 'jonathanisgreat'],\n",
    "        [3, 'Annabelle', 'bella-@leetcode.com'],[4, 'Sally', 'sally.come@leetcode.com@leetcode.com'], \n",
    "        [5, 'Marwan', 'quarz#2020@leetcode.com'],[6, 'David', 'david69@gmail.com'],\n",
    "        [7, 'Shapiro', '.shapo@leetcode.com']]\n",
    "Users = pd.DataFrame(data, columns=['user_id', 'name', 'mail']).astype({'user_id':'int64', 'name':'object', 'mail':'object'})\n",
    "\n",
    "print(Users[(Users['mail'].str.match(pattern))])\n"
   ]
  },
  {
   "cell_type": "code",
   "execution_count": 34,
   "id": "cf8cc849",
   "metadata": {},
   "outputs": [
    {
     "name": "stdout",
     "output_type": "stream",
     "text": [
      "   patient_id patient_name    conditions\n",
      "2           3          Bob  DIAB100 MYOP\n",
      "3           4       George  ACNE DIAB100\n"
     ]
    }
   ],
   "source": [
    "#find diabities patient\n",
    "import pandas as pd\n",
    "data = [[1, 'Daniel', 'YFEV COUGH'], [2, 'Alice', ''],\n",
    "        [3, 'Bob', 'DIAB100 MYOP'], [4, 'George', 'ACNE DIAB100'], [5, 'Alain', 'DIAB201'],[1, \"Daniel\",\" SADIAB100\"]]\n",
    "Patients = pd.DataFrame(data, columns=['patient_id', 'patient_name', 'conditions']).astype({'patient_id':'int64', 'patient_name':'object', 'conditions':'object'})\n",
    "\n",
    "pattern=r\"\\bDIAB1\\w*\\b\"\n",
    "print(Patients[Patients['conditions'].str.contains(pattern)])\n"
   ]
  },
  {
   "cell_type": "code",
   "execution_count": null,
   "id": "1e753088",
   "metadata": {},
   "outputs": [],
   "source": []
  }
 ],
 "metadata": {
  "kernelspec": {
   "display_name": "Python 3 (ipykernel)",
   "language": "python",
   "name": "python3"
  },
  "language_info": {
   "codemirror_mode": {
    "name": "ipython",
    "version": 3
   },
   "file_extension": ".py",
   "mimetype": "text/x-python",
   "name": "python",
   "nbconvert_exporter": "python",
   "pygments_lexer": "ipython3",
   "version": "3.9.13"
  }
 },
 "nbformat": 4,
 "nbformat_minor": 5
}
